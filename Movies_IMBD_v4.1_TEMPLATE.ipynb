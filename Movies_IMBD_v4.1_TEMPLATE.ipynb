{
 "cells": [
  {
   "cell_type": "code",
   "execution_count": 3,
   "metadata": {
    "_cell_guid": "b1076dfc-b9ad-4769-8c92-a6c4dae69d19",
    "_uuid": "8f2839f25d086af736a60e9eeb907d3b93b6e0e5",
    "colab": {},
    "colab_type": "code",
    "id": "U2D2gTdJVp90"
   },
   "outputs": [],
   "source": [
    "import numpy as np\n",
    "import pandas as pd\n",
    "import seaborn as sns\n",
    "import matplotlib.pyplot as plt\n",
    "from collections import Counter"
   ]
  },
  {
   "cell_type": "code",
   "execution_count": 2,
   "metadata": {
    "_cell_guid": "79c7e3d0-c299-4dcb-8224-4455121ee9b0",
    "_uuid": "d629ff2d2480ee46fbb7e2d37f6b5fab8052498a",
    "colab": {},
    "colab_type": "code",
    "id": "oyGfxL3eVp9-"
   },
   "outputs": [
    {
     "data": {
      "text/html": [
       "<div>\n",
       "<style scoped>\n",
       "    .dataframe tbody tr th:only-of-type {\n",
       "        vertical-align: middle;\n",
       "    }\n",
       "\n",
       "    .dataframe tbody tr th {\n",
       "        vertical-align: top;\n",
       "    }\n",
       "\n",
       "    .dataframe thead th {\n",
       "        text-align: right;\n",
       "    }\n",
       "</style>\n",
       "<table border=\"1\" class=\"dataframe\">\n",
       "  <thead>\n",
       "    <tr style=\"text-align: right;\">\n",
       "      <th></th>\n",
       "      <th>imdb_id</th>\n",
       "      <th>budget</th>\n",
       "      <th>revenue</th>\n",
       "      <th>original_title</th>\n",
       "      <th>cast</th>\n",
       "      <th>director</th>\n",
       "      <th>tagline</th>\n",
       "      <th>overview</th>\n",
       "      <th>runtime</th>\n",
       "      <th>genres</th>\n",
       "      <th>production_companies</th>\n",
       "      <th>release_date</th>\n",
       "      <th>vote_average</th>\n",
       "      <th>release_year</th>\n",
       "      <th>profit</th>\n",
       "    </tr>\n",
       "  </thead>\n",
       "  <tbody>\n",
       "    <tr>\n",
       "      <th>1327</th>\n",
       "      <td>tt0407304</td>\n",
       "      <td>132000000</td>\n",
       "      <td>591739379</td>\n",
       "      <td>War of the Worlds</td>\n",
       "      <td>Tom Cruise|Dakota Fanning|Miranda Otto|Justin ...</td>\n",
       "      <td>Steven Spielberg</td>\n",
       "      <td>They're already here.</td>\n",
       "      <td>The extraordinary battle for the future of hum...</td>\n",
       "      <td>116</td>\n",
       "      <td>Adventure|Thriller|Science Fiction</td>\n",
       "      <td>Paramount Pictures|DreamWorks SKG|Cruise/Wagne...</td>\n",
       "      <td>6/28/2005</td>\n",
       "      <td>5.9</td>\n",
       "      <td>2005</td>\n",
       "      <td>459739379</td>\n",
       "    </tr>\n",
       "    <tr>\n",
       "      <th>537</th>\n",
       "      <td>tt0240462</td>\n",
       "      <td>70000000</td>\n",
       "      <td>176104344</td>\n",
       "      <td>Dr. Dolittle 2</td>\n",
       "      <td>Eddie Murphy|Kristen Wilson|Raven-SymonÃ©|Kyla...</td>\n",
       "      <td>Steve Carr</td>\n",
       "      <td>The doctor is in again.</td>\n",
       "      <td>Dr. John Dolittle the beloved doctor is back, ...</td>\n",
       "      <td>87</td>\n",
       "      <td>Comedy|Family|Romance|Fantasy</td>\n",
       "      <td>Twentieth Century Fox Film Corporation</td>\n",
       "      <td>6/22/2001</td>\n",
       "      <td>4.9</td>\n",
       "      <td>2001</td>\n",
       "      <td>106104344</td>\n",
       "    </tr>\n",
       "    <tr>\n",
       "      <th>303</th>\n",
       "      <td>tt0795351</td>\n",
       "      <td>27000000</td>\n",
       "      <td>29000000</td>\n",
       "      <td>Case 39</td>\n",
       "      <td>RenÃ©e Zellweger|Jodelle Ferland|Ian McShane|K...</td>\n",
       "      <td>Christian Alvart</td>\n",
       "      <td>Some cases should  never be opened.</td>\n",
       "      <td>In her many years as a social worker, Emily Je...</td>\n",
       "      <td>109</td>\n",
       "      <td>Horror|Mystery|Thriller</td>\n",
       "      <td>Paramount Vantage|Anonymous Content|Misher Fil...</td>\n",
       "      <td>8/13/2009</td>\n",
       "      <td>6.0</td>\n",
       "      <td>2009</td>\n",
       "      <td>2000000</td>\n",
       "    </tr>\n",
       "    <tr>\n",
       "      <th>1503</th>\n",
       "      <td>tt0430304</td>\n",
       "      <td>64000000</td>\n",
       "      <td>101595121</td>\n",
       "      <td>Little Man</td>\n",
       "      <td>Marlon Wayans|Shawn Wayans|Kerry Washington|Jo...</td>\n",
       "      <td>Keenen Ivory Wayans</td>\n",
       "      <td>Big things come in small packages</td>\n",
       "      <td>After leaving the prison, the dwarf criminal C...</td>\n",
       "      <td>98</td>\n",
       "      <td>Comedy|Crime</td>\n",
       "      <td>Revolution Studios|Wayans Bros. Entertainment</td>\n",
       "      <td>8/31/2006</td>\n",
       "      <td>5.6</td>\n",
       "      <td>2006</td>\n",
       "      <td>37595121</td>\n",
       "    </tr>\n",
       "    <tr>\n",
       "      <th>84</th>\n",
       "      <td>tt3567288</td>\n",
       "      <td>5000000</td>\n",
       "      <td>98450062</td>\n",
       "      <td>The Visit</td>\n",
       "      <td>Olivia DeJonge|Ed Oxenbould|Kathryn Hahn|Benja...</td>\n",
       "      <td>M. Night Shyamalan</td>\n",
       "      <td>No one loves you like your grandparents.</td>\n",
       "      <td>The terrifying story of a brother and sister w...</td>\n",
       "      <td>94</td>\n",
       "      <td>Horror|Thriller</td>\n",
       "      <td>Blumhouse Productions|Blinding Edge Pictures</td>\n",
       "      <td>9/10/2015</td>\n",
       "      <td>5.9</td>\n",
       "      <td>2015</td>\n",
       "      <td>93450062</td>\n",
       "    </tr>\n",
       "  </tbody>\n",
       "</table>\n",
       "</div>"
      ],
      "text/plain": [
       "        imdb_id     budget    revenue     original_title  \\\n",
       "1327  tt0407304  132000000  591739379  War of the Worlds   \n",
       "537   tt0240462   70000000  176104344     Dr. Dolittle 2   \n",
       "303   tt0795351   27000000   29000000            Case 39   \n",
       "1503  tt0430304   64000000  101595121         Little Man   \n",
       "84    tt3567288    5000000   98450062          The Visit   \n",
       "\n",
       "                                                   cast             director  \\\n",
       "1327  Tom Cruise|Dakota Fanning|Miranda Otto|Justin ...     Steven Spielberg   \n",
       "537   Eddie Murphy|Kristen Wilson|Raven-SymonÃ©|Kyla...           Steve Carr   \n",
       "303   RenÃ©e Zellweger|Jodelle Ferland|Ian McShane|K...     Christian Alvart   \n",
       "1503  Marlon Wayans|Shawn Wayans|Kerry Washington|Jo...  Keenen Ivory Wayans   \n",
       "84    Olivia DeJonge|Ed Oxenbould|Kathryn Hahn|Benja...   M. Night Shyamalan   \n",
       "\n",
       "                                       tagline  \\\n",
       "1327                     They're already here.   \n",
       "537                    The doctor is in again.   \n",
       "303        Some cases should  never be opened.   \n",
       "1503         Big things come in small packages   \n",
       "84    No one loves you like your grandparents.   \n",
       "\n",
       "                                               overview  runtime  \\\n",
       "1327  The extraordinary battle for the future of hum...      116   \n",
       "537   Dr. John Dolittle the beloved doctor is back, ...       87   \n",
       "303   In her many years as a social worker, Emily Je...      109   \n",
       "1503  After leaving the prison, the dwarf criminal C...       98   \n",
       "84    The terrifying story of a brother and sister w...       94   \n",
       "\n",
       "                                  genres  \\\n",
       "1327  Adventure|Thriller|Science Fiction   \n",
       "537        Comedy|Family|Romance|Fantasy   \n",
       "303              Horror|Mystery|Thriller   \n",
       "1503                        Comedy|Crime   \n",
       "84                       Horror|Thriller   \n",
       "\n",
       "                                   production_companies release_date  \\\n",
       "1327  Paramount Pictures|DreamWorks SKG|Cruise/Wagne...    6/28/2005   \n",
       "537              Twentieth Century Fox Film Corporation    6/22/2001   \n",
       "303   Paramount Vantage|Anonymous Content|Misher Fil...    8/13/2009   \n",
       "1503      Revolution Studios|Wayans Bros. Entertainment    8/31/2006   \n",
       "84         Blumhouse Productions|Blinding Edge Pictures    9/10/2015   \n",
       "\n",
       "      vote_average  release_year     profit  \n",
       "1327           5.9          2005  459739379  \n",
       "537            4.9          2001  106104344  \n",
       "303            6.0          2009    2000000  \n",
       "1503           5.6          2006   37595121  \n",
       "84             5.9          2015   93450062  "
      ]
     },
     "execution_count": 2,
     "metadata": {},
     "output_type": "execute_result"
    }
   ],
   "source": [
    "data = pd.read_csv('movie_bd_v5.csv')\n",
    "\n",
    "data['profit'] = data['revenue']-data['budget']\n",
    "data.sample(5)"
   ]
  },
  {
   "cell_type": "code",
   "execution_count": 3,
   "metadata": {
    "colab": {},
    "colab_type": "code",
    "id": "CoYUnagMVp-C"
   },
   "outputs": [
    {
     "data": {
      "text/html": [
       "<div>\n",
       "<style scoped>\n",
       "    .dataframe tbody tr th:only-of-type {\n",
       "        vertical-align: middle;\n",
       "    }\n",
       "\n",
       "    .dataframe tbody tr th {\n",
       "        vertical-align: top;\n",
       "    }\n",
       "\n",
       "    .dataframe thead th {\n",
       "        text-align: right;\n",
       "    }\n",
       "</style>\n",
       "<table border=\"1\" class=\"dataframe\">\n",
       "  <thead>\n",
       "    <tr style=\"text-align: right;\">\n",
       "      <th></th>\n",
       "      <th>budget</th>\n",
       "      <th>revenue</th>\n",
       "      <th>runtime</th>\n",
       "      <th>vote_average</th>\n",
       "      <th>release_year</th>\n",
       "      <th>profit</th>\n",
       "    </tr>\n",
       "  </thead>\n",
       "  <tbody>\n",
       "    <tr>\n",
       "      <th>count</th>\n",
       "      <td>1.889000e+03</td>\n",
       "      <td>1.889000e+03</td>\n",
       "      <td>1889.000000</td>\n",
       "      <td>1889.000000</td>\n",
       "      <td>1889.000000</td>\n",
       "      <td>1.889000e+03</td>\n",
       "    </tr>\n",
       "    <tr>\n",
       "      <th>mean</th>\n",
       "      <td>5.431083e+07</td>\n",
       "      <td>1.553653e+08</td>\n",
       "      <td>109.658549</td>\n",
       "      <td>6.140762</td>\n",
       "      <td>2007.860773</td>\n",
       "      <td>1.010545e+08</td>\n",
       "    </tr>\n",
       "    <tr>\n",
       "      <th>std</th>\n",
       "      <td>4.858721e+07</td>\n",
       "      <td>2.146698e+08</td>\n",
       "      <td>18.017041</td>\n",
       "      <td>0.764763</td>\n",
       "      <td>4.468841</td>\n",
       "      <td>1.830733e+08</td>\n",
       "    </tr>\n",
       "    <tr>\n",
       "      <th>min</th>\n",
       "      <td>5.000000e+06</td>\n",
       "      <td>2.033165e+06</td>\n",
       "      <td>63.000000</td>\n",
       "      <td>3.300000</td>\n",
       "      <td>2000.000000</td>\n",
       "      <td>-1.657101e+08</td>\n",
       "    </tr>\n",
       "    <tr>\n",
       "      <th>25%</th>\n",
       "      <td>2.000000e+07</td>\n",
       "      <td>3.456058e+07</td>\n",
       "      <td>97.000000</td>\n",
       "      <td>5.600000</td>\n",
       "      <td>2004.000000</td>\n",
       "      <td>5.000000e+06</td>\n",
       "    </tr>\n",
       "    <tr>\n",
       "      <th>50%</th>\n",
       "      <td>3.800000e+07</td>\n",
       "      <td>8.361541e+07</td>\n",
       "      <td>107.000000</td>\n",
       "      <td>6.100000</td>\n",
       "      <td>2008.000000</td>\n",
       "      <td>4.400041e+07</td>\n",
       "    </tr>\n",
       "    <tr>\n",
       "      <th>75%</th>\n",
       "      <td>7.200000e+07</td>\n",
       "      <td>1.782626e+08</td>\n",
       "      <td>120.000000</td>\n",
       "      <td>6.600000</td>\n",
       "      <td>2012.000000</td>\n",
       "      <td>1.201842e+08</td>\n",
       "    </tr>\n",
       "    <tr>\n",
       "      <th>max</th>\n",
       "      <td>3.800000e+08</td>\n",
       "      <td>2.781506e+09</td>\n",
       "      <td>214.000000</td>\n",
       "      <td>8.100000</td>\n",
       "      <td>2015.000000</td>\n",
       "      <td>2.544506e+09</td>\n",
       "    </tr>\n",
       "  </tbody>\n",
       "</table>\n",
       "</div>"
      ],
      "text/plain": [
       "             budget       revenue      runtime  vote_average  release_year  \\\n",
       "count  1.889000e+03  1.889000e+03  1889.000000   1889.000000   1889.000000   \n",
       "mean   5.431083e+07  1.553653e+08   109.658549      6.140762   2007.860773   \n",
       "std    4.858721e+07  2.146698e+08    18.017041      0.764763      4.468841   \n",
       "min    5.000000e+06  2.033165e+06    63.000000      3.300000   2000.000000   \n",
       "25%    2.000000e+07  3.456058e+07    97.000000      5.600000   2004.000000   \n",
       "50%    3.800000e+07  8.361541e+07   107.000000      6.100000   2008.000000   \n",
       "75%    7.200000e+07  1.782626e+08   120.000000      6.600000   2012.000000   \n",
       "max    3.800000e+08  2.781506e+09   214.000000      8.100000   2015.000000   \n",
       "\n",
       "             profit  \n",
       "count  1.889000e+03  \n",
       "mean   1.010545e+08  \n",
       "std    1.830733e+08  \n",
       "min   -1.657101e+08  \n",
       "25%    5.000000e+06  \n",
       "50%    4.400041e+07  \n",
       "75%    1.201842e+08  \n",
       "max    2.544506e+09  "
      ]
     },
     "execution_count": 3,
     "metadata": {},
     "output_type": "execute_result"
    }
   ],
   "source": [
    "data.describe()"
   ]
  },
  {
   "cell_type": "markdown",
   "metadata": {
    "colab_type": "text",
    "id": "DTIt7ezGVp-G"
   },
   "source": [
    "# Предобработка"
   ]
  },
  {
   "cell_type": "code",
   "execution_count": 2,
   "metadata": {
    "colab": {},
    "colab_type": "code",
    "id": "jNb40DwKVp-H"
   },
   "outputs": [],
   "source": [
    "answers = {} # создадим словарь для ответов\n",
    "\n",
    "# тут другие ваши предобработки колонок например:\n",
    "\n",
    "#the time given in the dataset is in string format.\n",
    "#So we need to change this in datetime format\n",
    "# ..."
   ]
  },
  {
   "cell_type": "markdown",
   "metadata": {
    "colab_type": "text",
    "id": "YxZaH-nPVp-L"
   },
   "source": [
    "# 1. У какого фильма из списка самый большой бюджет?"
   ]
  },
  {
   "cell_type": "markdown",
   "metadata": {
    "colab_type": "text",
    "id": "Nd-G5gX6Vp-M"
   },
   "source": [
    "Использовать варианты ответов в коде решения запрещено.    \n",
    "Вы думаете и в жизни у вас будут варианты ответов?)"
   ]
  },
  {
   "cell_type": "code",
   "execution_count": 5,
   "metadata": {
    "colab": {},
    "colab_type": "code",
    "id": "uVnXAY5RVp-O"
   },
   "outputs": [],
   "source": [
    "# в словарь вставляем номер вопроса и ваш ответ на него\n",
    "# Пример: \n",
    "#answers['1'] = '2. Spider-Man 3 (tt0413300)'\n",
    "# запишите свой вариант ответа\n",
    "#answers['1'] = '...'\n",
    "# если ответили верно, можете добавить комментарий со значком \"+\""
   ]
  },
  {
   "cell_type": "code",
   "execution_count": 6,
   "metadata": {
    "colab": {},
    "colab_type": "code",
    "id": "dZwb3m28Vp-S"
   },
   "outputs": [],
   "source": [
    "# тут пишем ваш код для решения данного вопроса:\n",
    "data.groupby(['original_title','imdb_id'])['budget'].max().sort_values(ascending=False).head(5)\n",
    "answers['1'] = '1. Pirates of the Caribbean: On Stranger Tides (tt1298650)'"
   ]
  },
  {
   "cell_type": "markdown",
   "metadata": {
    "colab_type": "text",
    "id": "K7L3nbRXVp-X"
   },
   "source": [
    "ВАРИАНТ 2"
   ]
  },
  {
   "cell_type": "code",
   "execution_count": 7,
   "metadata": {
    "colab": {},
    "colab_type": "code",
    "id": "OGaoQI7rVp-X"
   },
   "outputs": [],
   "source": [
    "# можно добавлять разные варианты решения\n"
   ]
  },
  {
   "cell_type": "markdown",
   "metadata": {
    "colab_type": "text",
    "id": "FNRbbI3vVp-c"
   },
   "source": [
    "# 2. Какой из фильмов самый длительный (в минутах)?"
   ]
  },
  {
   "cell_type": "code",
   "execution_count": 8,
   "metadata": {
    "colab": {},
    "colab_type": "code",
    "id": "vHAoEXNTVp-d"
   },
   "outputs": [],
   "source": [
    "# думаю логику работы с этим словарем вы уже поняли, \n",
    "# по этому не буду больше его дублировать\n",
    "data.groupby(['original_title','imdb_id'])['runtime'].max().sort_values(ascending=False).head(5)\n",
    "answers['2'] = '2. Gods and Generals (tt0279111)'"
   ]
  },
  {
   "cell_type": "code",
   "execution_count": null,
   "metadata": {
    "colab": {},
    "colab_type": "code",
    "id": "ot-VX2XrVp-g"
   },
   "outputs": [],
   "source": []
  },
  {
   "cell_type": "markdown",
   "metadata": {
    "colab_type": "text",
    "id": "bapLlpW8Vp-k"
   },
   "source": [
    "# 3. Какой из фильмов самый короткий (в минутах)?\n",
    "\n",
    "\n",
    "\n"
   ]
  },
  {
   "cell_type": "code",
   "execution_count": 9,
   "metadata": {
    "colab": {},
    "colab_type": "code",
    "id": "YBxaSHuAVp-l"
   },
   "outputs": [],
   "source": [
    "data.groupby(['original_title','imdb_id'])['runtime'].min().sort_values(ascending=True).head(5)\n",
    "answers['3'] = '3. Winnie the Poo (tt1449283)'"
   ]
  },
  {
   "cell_type": "markdown",
   "metadata": {
    "colab_type": "text",
    "id": "TfQbxbfNVp-p"
   },
   "source": [
    "# 4. Какова средняя длительность фильмов?\n"
   ]
  },
  {
   "cell_type": "code",
   "execution_count": 10,
   "metadata": {
    "colab": {},
    "colab_type": "code",
    "id": "5K6dKZYVVp-q"
   },
   "outputs": [],
   "source": [
    "data.runtime.mean()\n",
    "answers['4'] = '4. 109.6585494970884'"
   ]
  },
  {
   "cell_type": "markdown",
   "metadata": {
    "colab_type": "text",
    "id": "r5TvbnT_Vp-u"
   },
   "source": [
    "# 5. Каково медианное значение длительности фильмов? "
   ]
  },
  {
   "cell_type": "code",
   "execution_count": 11,
   "metadata": {
    "colab": {},
    "colab_type": "code",
    "id": "iBROplKnVp-v"
   },
   "outputs": [],
   "source": [
    "data.runtime.median()\n",
    "answers['5'] = '5. 107.0'"
   ]
  },
  {
   "cell_type": "markdown",
   "metadata": {
    "colab_type": "text",
    "id": "39P-deDSVp-y"
   },
   "source": [
    "# 6. Какой самый прибыльный фильм?\n",
    "#### Внимание! Здесь и далее под «прибылью» или «убытками» понимается разность между сборами и бюджетом фильма. (прибыль = сборы - бюджет) в нашем датасете это будет (profit = revenue - budget) "
   ]
  },
  {
   "cell_type": "code",
   "execution_count": 12,
   "metadata": {
    "colab": {},
    "colab_type": "code",
    "id": "UYZh4T9WVp-y"
   },
   "outputs": [],
   "source": [
    "# лучше код получения столбца profit вынести в Предобработку что в начале\n",
    "data['profit'] = data['revenue']-data['budget']\n",
    "data.groupby(['original_title','imdb_id'])['profit'].max().sort_values(ascending=False).head(5)\n",
    "answers['6'] = '6. Avatar (tt0499549)'"
   ]
  },
  {
   "cell_type": "markdown",
   "metadata": {
    "colab_type": "text",
    "id": "M99JmIX4Vp-2"
   },
   "source": [
    "# 7. Какой фильм самый убыточный? "
   ]
  },
  {
   "cell_type": "code",
   "execution_count": 13,
   "metadata": {
    "colab": {},
    "colab_type": "code",
    "id": "w-D2m4XPVp-3"
   },
   "outputs": [],
   "source": [
    "data.groupby(['original_title','imdb_id'])['profit'].min().sort_values(ascending=True).head(5)\n",
    "answers['7'] = '7. The Lone Ranger (tt1210819)'"
   ]
  },
  {
   "cell_type": "markdown",
   "metadata": {
    "colab_type": "text",
    "id": "wEOM5ERVVp-6"
   },
   "source": [
    "# 8. У скольких фильмов из датасета объем сборов оказался выше бюджета?"
   ]
  },
  {
   "cell_type": "code",
   "execution_count": 14,
   "metadata": {
    "colab": {},
    "colab_type": "code",
    "id": "y00_7HD6Vp-7"
   },
   "outputs": [],
   "source": [
    "data.query('revenue>budget')\n",
    "answers['8'] = '8. 1478'"
   ]
  },
  {
   "cell_type": "markdown",
   "metadata": {
    "colab_type": "text",
    "id": "xhpspA9KVp_A"
   },
   "source": [
    "# 9. Какой фильм оказался самым кассовым в 2008 году?"
   ]
  },
  {
   "cell_type": "code",
   "execution_count": 15,
   "metadata": {
    "colab": {},
    "colab_type": "code",
    "id": "MoUyQr9RVp_B"
   },
   "outputs": [
    {
     "name": "stderr",
     "output_type": "stream",
     "text": [
      "<ipython-input-15-d6f0466b36c8>:3: UserWarning: Boolean Series key will be reindexed to match DataFrame index.\n",
      "  ds[(data['profit'] == p_max)]\n"
     ]
    }
   ],
   "source": [
    "\n",
    "ds=data[(data['release_year']==2008)]\n",
    "p_max=ds.profit.max()\n",
    "ds[(data['profit'] == p_max)]\n",
    "\n",
    "answers['9'] = '9. The Dark Knight (tt0468569)'"
   ]
  },
  {
   "cell_type": "markdown",
   "metadata": {
    "colab_type": "text",
    "id": "Zi4hDKidVp_F"
   },
   "source": [
    "# 10. Самый убыточный фильм за период с 2012 по 2014 г. (включительно)?\n"
   ]
  },
  {
   "cell_type": "code",
   "execution_count": 16,
   "metadata": {
    "colab": {},
    "colab_type": "code",
    "id": "XqyRmufJVp_F"
   },
   "outputs": [
    {
     "name": "stderr",
     "output_type": "stream",
     "text": [
      "<ipython-input-16-326ac79a260e>:4: UserWarning: Boolean Series key will be reindexed to match DataFrame index.\n",
      "  ds[(data['profit'] == p_min)]\n"
     ]
    }
   ],
   "source": [
    "ds=data[(data['release_year']>=2012) & (data['release_year']<=2014)]\n",
    "p_min=ds.profit.min()\n",
    "#print(p_min) -165710090\n",
    "ds[(data['profit'] == p_min)]\n",
    "\n",
    "answers['10'] = '10. The Lone Ranger (tt1210819)'"
   ]
  },
  {
   "cell_type": "markdown",
   "metadata": {
    "colab_type": "text",
    "id": "EA7Sa9dkVp_I"
   },
   "source": [
    "# 11. Какого жанра фильмов больше всего?"
   ]
  },
  {
   "cell_type": "code",
   "execution_count": 6,
   "metadata": {
    "colab": {},
    "colab_type": "code",
    "id": "zsJAwJ8QVp_J"
   },
   "outputs": [
    {
     "data": {
      "text/html": [
       "<div>\n",
       "<style scoped>\n",
       "    .dataframe tbody tr th:only-of-type {\n",
       "        vertical-align: middle;\n",
       "    }\n",
       "\n",
       "    .dataframe tbody tr th {\n",
       "        vertical-align: top;\n",
       "    }\n",
       "\n",
       "    .dataframe thead th {\n",
       "        text-align: right;\n",
       "    }\n",
       "</style>\n",
       "<table border=\"1\" class=\"dataframe\">\n",
       "  <thead>\n",
       "    <tr style=\"text-align: right;\">\n",
       "      <th></th>\n",
       "      <th>Number_genres</th>\n",
       "    </tr>\n",
       "  </thead>\n",
       "  <tbody>\n",
       "    <tr>\n",
       "      <th>Drama</th>\n",
       "      <td>782</td>\n",
       "    </tr>\n",
       "  </tbody>\n",
       "</table>\n",
       "</div>"
      ],
      "text/plain": [
       "       Number_genres\n",
       "Drama            782"
      ]
     },
     "metadata": {},
     "output_type": "display_data"
    }
   ],
   "source": [
    "# ВЕЛОСИПЕД\n",
    "\n",
    "import numpy as np\n",
    "import pandas as pd\n",
    "import seaborn as sns\n",
    "import matplotlib.pyplot as plt\n",
    "from collections import Counter\n",
    "data = pd.read_csv('movie_bd_v5.csv')\n",
    "\n",
    "\n",
    "\n",
    "\n",
    "k=len(data.genres)\n",
    "d_genres=[]\n",
    "dict_genres={}\n",
    "i=0\n",
    "\n",
    "while i<k:                 #цикл составления списка названий жанров\n",
    "    t = data.genres[i]\n",
    "\n",
    "    try:\n",
    "        t.isalnum()\n",
    "    except AttributeError:\n",
    "        i=i+1\n",
    "        continue\n",
    "    t=data.genres[i].split('|') #удаление разделительного символа между названиями жанров\n",
    "    td=Counter(t).most_common() #словарь из строки\n",
    "    d_genres.append(t)          #создание списка количества жанров\n",
    "    dict_genres.update(td)      #добавление в итоговый словарь данных из текущей строки\n",
    "    \n",
    "    \n",
    "    i=i+1\n",
    "\n",
    "dd=pd.Series(dict_genres)       #список названий жанров\n",
    "\n",
    "\n",
    "df=pd.DataFrame(d_genres)       # фрейм количества жанров\n",
    "df.columns=['Genres1','Genres2','Genres3','Genres4','Genres5'] #добавление названия столбцов во фрейм \n",
    "\n",
    "N_genre_film=[]\n",
    "for gf in dd.index:            #цикл подсчета жанров одного вида\n",
    "    a=len(df[df.Genres1.str.match(gf, na=False)]['Genres1'])\n",
    "    b=len(df[df.Genres2.str.match(gf, na=False)]['Genres2']) \n",
    "    c=len(df[df.Genres3.str.match(gf, na=False)]['Genres3'])\n",
    "    d=len(df[df.Genres4.str.match(gf, na=False)]['Genres4'])\n",
    "    e=len(df[df.Genres5.str.match(gf, na=False)]['Genres5'])\n",
    "    Genre_film = a+b+c+d+e\n",
    "    N_genre_film.append(Genre_film)\n",
    "\n",
    "dfg=pd.DataFrame(N_genre_film, index=dd.index, columns=['Number_genres']) #создание фрейма жанр-количество\n",
    "\n",
    "max = dfg.Number_genres.max()      #максимальное число жанра\n",
    "#print(max)\n",
    "ds=dfg[(dfg['Number_genres']==max) ] #выборка максимального значения\n",
    "display(ds)\n",
    "\n",
    "answers['11'] = '11. Drama (782)'"
   ]
  },
  {
   "cell_type": "markdown",
   "metadata": {
    "colab_type": "text",
    "id": "Ax6g2C8SVp_M"
   },
   "source": [
    "ВАРИАНТ 2"
   ]
  },
  {
   "cell_type": "code",
   "execution_count": 18,
   "metadata": {
    "colab": {},
    "colab_type": "code",
    "id": "otO3SbrSVp_N"
   },
   "outputs": [
    {
     "name": "stdout",
     "output_type": "stream",
     "text": [
      "782\n"
     ]
    },
    {
     "data": {
      "text/html": [
       "<div>\n",
       "<style scoped>\n",
       "    .dataframe tbody tr th:only-of-type {\n",
       "        vertical-align: middle;\n",
       "    }\n",
       "\n",
       "    .dataframe tbody tr th {\n",
       "        vertical-align: top;\n",
       "    }\n",
       "\n",
       "    .dataframe thead th {\n",
       "        text-align: right;\n",
       "    }\n",
       "</style>\n",
       "<table border=\"1\" class=\"dataframe\">\n",
       "  <thead>\n",
       "    <tr style=\"text-align: right;\">\n",
       "      <th></th>\n",
       "      <th>Number_genres</th>\n",
       "    </tr>\n",
       "  </thead>\n",
       "  <tbody>\n",
       "    <tr>\n",
       "      <th>Drama</th>\n",
       "      <td>782</td>\n",
       "    </tr>\n",
       "  </tbody>\n",
       "</table>\n",
       "</div>"
      ],
      "text/plain": [
       "       Number_genres\n",
       "Drama            782"
      ]
     },
     "metadata": {},
     "output_type": "display_data"
    },
    {
     "name": "stdout",
     "output_type": "stream",
     "text": [
      "782\n"
     ]
    }
   ],
   "source": [
    "data = pd.read_csv('movie_bd_v5.csv')\n",
    "def count_genres(gf,N_genre_film):#функция подсчета числа жанра одного вида в строке датафрейма,\n",
    "#получает на вход ячейку столбца и пустой список    \n",
    "    dddd=len(data[data.genres.str.contains(gf, na=False)])#записываем в переменную число жанра в столбце\n",
    "    N_genre_film.append(dddd)     #обновляем численный список жанров\n",
    "\n",
    "    return N_genre_film           #функция возвращает числовой списко по жанрам\n",
    "\n",
    "\n",
    "\n",
    "\n",
    "k=len(data.genres)               #количество строк в столбце жанров\n",
    "d_genres=[]                      #пустой список для жанров из ячейки\n",
    "dict_genres={}                   #словарь для сохранения жанров\n",
    "i=0\n",
    "\n",
    "while i<k:                       #цикл составления списка названий жанров\n",
    "    t = data.genres[i]\n",
    "\n",
    "    try:                         #прверка пустой строки\n",
    "        t.isalnum()\n",
    "    except AttributeError:\n",
    "        i=i+1\n",
    "        continue\n",
    "    t=data.genres[i].split('|')  #удаление разделительного символа между названиями жанров\n",
    "    td=Counter(t).most_common()  #словарь из строки\n",
    "    dict_genres.update(td)       #добавление в итоговый словарь данных из текущей строки\n",
    "    \n",
    "    \n",
    "    i=i+1\n",
    "\n",
    "dd=pd.Series(dict_genres)        #список жанров\n",
    "\n",
    "N_genres=[]\n",
    "for gf in dd.index: count_genres(gf,N_genres)#создание списка количества жанров\n",
    "    \n",
    "#display(N_genres)  проверка\n",
    "\n",
    "\n",
    "dfg=pd.DataFrame(N_genres, index=dd.index, columns=['Number_genres']) #созадние жанрового датафрейма \n",
    "#display(dfg) проверка\n",
    "max = dfg.Number_genres.max()    #максимальное число жанров\n",
    "print(max)\n",
    "ds=dfg[(dfg['Number_genres']==max) ] #выборка максимального значения\n",
    "display(ds)\n",
    "\n",
    "\n",
    "check3=len(data[data.genres.str.contains(\"Drama\")]) #проверка\n",
    "print(check3)"
   ]
  },
  {
   "cell_type": "markdown",
   "metadata": {
    "colab_type": "text",
    "id": "T9_bPWpkVp_Q"
   },
   "source": [
    "# 12. Фильмы какого жанра чаще всего становятся прибыльными? "
   ]
  },
  {
   "cell_type": "code",
   "execution_count": 13,
   "metadata": {
    "colab": {},
    "colab_type": "code",
    "id": "Tmt8MaK1Vp_R"
   },
   "outputs": [
    {
     "name": "stdout",
     "output_type": "stream",
     "text": [
      "560\n"
     ]
    },
    {
     "data": {
      "text/html": [
       "<div>\n",
       "<style scoped>\n",
       "    .dataframe tbody tr th:only-of-type {\n",
       "        vertical-align: middle;\n",
       "    }\n",
       "\n",
       "    .dataframe tbody tr th {\n",
       "        vertical-align: top;\n",
       "    }\n",
       "\n",
       "    .dataframe thead th {\n",
       "        text-align: right;\n",
       "    }\n",
       "</style>\n",
       "<table border=\"1\" class=\"dataframe\">\n",
       "  <thead>\n",
       "    <tr style=\"text-align: right;\">\n",
       "      <th></th>\n",
       "      <th>Number_genres</th>\n",
       "    </tr>\n",
       "  </thead>\n",
       "  <tbody>\n",
       "    <tr>\n",
       "      <th>Drama</th>\n",
       "      <td>560</td>\n",
       "    </tr>\n",
       "  </tbody>\n",
       "</table>\n",
       "</div>"
      ],
      "text/plain": [
       "       Number_genres\n",
       "Drama            560"
      ]
     },
     "metadata": {},
     "output_type": "display_data"
    },
    {
     "name": "stdout",
     "output_type": "stream",
     "text": [
      "560\n"
     ]
    }
   ],
   "source": [
    "data = pd.read_csv('movie_bd_v5.csv')\n",
    "data['profit'] = data['revenue']-data['budget']\n",
    "\n",
    "\n",
    "def count_genres(gf,N_genre_film):#функция подсчета числа жанра одного вида в строке датафрейма,\n",
    "#получает на вход ячейку столбца и пустой список    \n",
    "    dddd=len(dff[dff.genres.str.contains(gf, na=False)])#записываем в переменную число жанра в столбце\n",
    "    N_genre_film.append(dddd)     #обновляем численный список жанров\n",
    "\n",
    "    return N_genre_film           #функция возвращает числовой списко по жанрам\n",
    "\n",
    "dff=data[(data['profit']>0) ] #фрейм с прибыльными фильмами\n",
    "\n",
    "Genres=(['Action', 'Adventure', 'Science Fiction', 'Thriller', 'Fantasy',\n",
    "       'Crime', 'Western', 'Drama', 'Family', 'Animation', 'Comedy', 'Mystery',\n",
    "       'Romance', 'War', 'History', 'Music', 'Horror', 'Documentary',\n",
    "       'Foreign'])\n",
    "\n",
    "\n",
    "\n",
    "N_genres=[]\n",
    "for gf in Genres: count_genres(gf,N_genres)#создание списка количества жанров\n",
    "    \n",
    "dfg=pd.DataFrame(N_genres, index=Genres, columns=['Number_genres']) #созадние жанрового датафрейма \n",
    "#display(dfg) проверка\n",
    "max = dfg.Number_genres.max()    #максимальное число жанров\n",
    "print(max)\n",
    "ds=dfg[(dfg['Number_genres']==max) ] #выборка максимального занчения\n",
    "display(ds)\n",
    "check3=len(dff[dff.genres.str.contains(\"Drama\")]) #проверка\n",
    "print(check3)\n",
    "\n",
    "answers['12'] = '12. Drama (560)'\n"
   ]
  },
  {
   "cell_type": "markdown",
   "metadata": {
    "colab_type": "text",
    "id": "0F23bgsDVp_U"
   },
   "source": [
    "# 13. У какого режиссера самые большие суммарные кассовые сборы?"
   ]
  },
  {
   "cell_type": "code",
   "execution_count": 7,
   "metadata": {
    "colab": {},
    "colab_type": "code",
    "id": "K6Z3J8ygVp_X"
   },
   "outputs": [],
   "source": [
    "data = pd.read_csv('movie_bd_v5.csv')\n",
    "data['profit'] = data['revenue']-data['budget']\n",
    "data.head()\n",
    "\n",
    "\n",
    "data.groupby(['director'])['revenue'].sum().sort_values(ascending=False).head(5)\n",
    "answers['13'] = '13. Peter Jackson (6490593685)'"
   ]
  },
  {
   "cell_type": "markdown",
   "metadata": {
    "colab_type": "text",
    "id": "PsYC9FgRVp_a"
   },
   "source": [
    "# 14. Какой режисер снял больше всего фильмов в стиле Action?"
   ]
  },
  {
   "cell_type": "code",
   "execution_count": 87,
   "metadata": {
    "colab": {},
    "colab_type": "code",
    "id": "wd2M-wHeVp_b"
   },
   "outputs": [
    {
     "data": {
      "text/html": [
       "<div>\n",
       "<style scoped>\n",
       "    .dataframe tbody tr th:only-of-type {\n",
       "        vertical-align: middle;\n",
       "    }\n",
       "\n",
       "    .dataframe tbody tr th {\n",
       "        vertical-align: top;\n",
       "    }\n",
       "\n",
       "    .dataframe thead th {\n",
       "        text-align: right;\n",
       "    }\n",
       "</style>\n",
       "<table border=\"1\" class=\"dataframe\">\n",
       "  <thead>\n",
       "    <tr style=\"text-align: right;\">\n",
       "      <th></th>\n",
       "      <th>genres</th>\n",
       "    </tr>\n",
       "    <tr>\n",
       "      <th>director</th>\n",
       "      <th></th>\n",
       "    </tr>\n",
       "  </thead>\n",
       "  <tbody>\n",
       "    <tr>\n",
       "      <th>Paul W.S. Anderson</th>\n",
       "      <td>7</td>\n",
       "    </tr>\n",
       "    <tr>\n",
       "      <th>Michael Bay</th>\n",
       "      <td>7</td>\n",
       "    </tr>\n",
       "    <tr>\n",
       "      <th>Ridley Scott</th>\n",
       "      <td>6</td>\n",
       "    </tr>\n",
       "    <tr>\n",
       "      <th>Antoine Fuqua</th>\n",
       "      <td>6</td>\n",
       "    </tr>\n",
       "    <tr>\n",
       "      <th>Robert Rodriguez</th>\n",
       "      <td>6</td>\n",
       "    </tr>\n",
       "  </tbody>\n",
       "</table>\n",
       "</div>"
      ],
      "text/plain": [
       "                    genres\n",
       "director                  \n",
       "Paul W.S. Anderson       7\n",
       "Michael Bay              7\n",
       "Ridley Scott             6\n",
       "Antoine Fuqua            6\n",
       "Robert Rodriguez         6"
      ]
     },
     "metadata": {},
     "output_type": "display_data"
    }
   ],
   "source": [
    "import numpy as np\n",
    "import pandas as pd\n",
    "import seaborn as sns\n",
    "import matplotlib.pyplot as plt\n",
    "from collections import Counter\n",
    "\n",
    "data = pd.read_csv('C:/Users/Dmitriy/projects/Skillfactory/Skillfactory-projects/movie_bd_v5.csv')\n",
    "\n",
    "\n",
    "df_action=data[data.genres.str.contains(\"Action\")]\n",
    "#display(df_action)\n",
    "#print(len(df_action))\n",
    "#df_action.info()\n",
    "\n",
    "\n",
    "\n",
    "\n",
    "\n",
    "dir_list=df_action.pivot_table(['genres'],['director'], aggfunc='count').sort_values(by='genres',ascending=False).head(5)\n",
    "\n",
    "#dddd=dir_list.genres.sort_values(ascending=False)\n",
    "display(dir_list)\n",
    "answers['14'] = '14.  Robert Rodriguez '"
   ]
  },
  {
   "cell_type": "markdown",
   "metadata": {
    "colab_type": "text",
    "id": "PQ0KciD7Vp_f"
   },
   "source": [
    "# 15. Фильмы с каким актером принесли самые высокие кассовые сборы в 2012 году? "
   ]
  },
  {
   "cell_type": "code",
   "execution_count": 77,
   "metadata": {
    "colab": {},
    "colab_type": "code",
    "id": "aga62oeKVp_g"
   },
   "outputs": [
    {
     "data": {
      "text/html": [
       "<div>\n",
       "<style scoped>\n",
       "    .dataframe tbody tr th:only-of-type {\n",
       "        vertical-align: middle;\n",
       "    }\n",
       "\n",
       "    .dataframe tbody tr th {\n",
       "        vertical-align: top;\n",
       "    }\n",
       "\n",
       "    .dataframe thead th {\n",
       "        text-align: right;\n",
       "    }\n",
       "</style>\n",
       "<table border=\"1\" class=\"dataframe\">\n",
       "  <thead>\n",
       "    <tr style=\"text-align: right;\">\n",
       "      <th></th>\n",
       "      <th>cast</th>\n",
       "    </tr>\n",
       "    <tr>\n",
       "      <th>revenue</th>\n",
       "      <th></th>\n",
       "    </tr>\n",
       "  </thead>\n",
       "  <tbody>\n",
       "    <tr>\n",
       "      <th>1519557910</th>\n",
       "      <td>Robert Downey Jr.|Chris Evans|Mark Ruffalo|Chr...</td>\n",
       "    </tr>\n",
       "    <tr>\n",
       "      <th>1108561013</th>\n",
       "      <td>Daniel Craig|Judi Dench|Javier Bardem|Ralph Fi...</td>\n",
       "    </tr>\n",
       "    <tr>\n",
       "      <th>1081041287</th>\n",
       "      <td>Christian Bale|Michael Caine|Gary Oldman|Anne ...</td>\n",
       "    </tr>\n",
       "    <tr>\n",
       "      <th>1017003568</th>\n",
       "      <td>Ian McKellen|Martin Freeman|Richard Armitage|A...</td>\n",
       "    </tr>\n",
       "    <tr>\n",
       "      <th>877244782</th>\n",
       "      <td>John Leguizamo|Ray Romano|Chris Wedge|Denis Le...</td>\n",
       "    </tr>\n",
       "    <tr>\n",
       "      <th>...</th>\n",
       "      <td>...</td>\n",
       "    </tr>\n",
       "    <tr>\n",
       "      <th>8106475</th>\n",
       "      <td>Kirsten Dunst|Jim Sturgess|Timothy Spall|James...</td>\n",
       "    </tr>\n",
       "    <tr>\n",
       "      <th>6063556</th>\n",
       "      <td>Robert Pattinson|Sarah Gadon|Juliette Binoche|...</td>\n",
       "    </tr>\n",
       "    <tr>\n",
       "      <th>4636169</th>\n",
       "      <td>Bruce Willis|Josh Duhamel|Rosario Dawson|Vince...</td>\n",
       "    </tr>\n",
       "    <tr>\n",
       "      <th>3428048</th>\n",
       "      <td>Jason Bateman|Hope Davis|Frank Grillo|Paula Pa...</td>\n",
       "    </tr>\n",
       "    <tr>\n",
       "      <th>2106557</th>\n",
       "      <td>Nicolas Cage|Malin Ã…kerman|Josh Lucas|Sami Ga...</td>\n",
       "    </tr>\n",
       "  </tbody>\n",
       "</table>\n",
       "<p>111 rows × 1 columns</p>\n",
       "</div>"
      ],
      "text/plain": [
       "                                                         cast\n",
       "revenue                                                      \n",
       "1519557910  Robert Downey Jr.|Chris Evans|Mark Ruffalo|Chr...\n",
       "1108561013  Daniel Craig|Judi Dench|Javier Bardem|Ralph Fi...\n",
       "1081041287  Christian Bale|Michael Caine|Gary Oldman|Anne ...\n",
       "1017003568  Ian McKellen|Martin Freeman|Richard Armitage|A...\n",
       "877244782   John Leguizamo|Ray Romano|Chris Wedge|Denis Le...\n",
       "...                                                       ...\n",
       "8106475     Kirsten Dunst|Jim Sturgess|Timothy Spall|James...\n",
       "6063556     Robert Pattinson|Sarah Gadon|Juliette Binoche|...\n",
       "4636169     Bruce Willis|Josh Duhamel|Rosario Dawson|Vince...\n",
       "3428048     Jason Bateman|Hope Davis|Frank Grillo|Paula Pa...\n",
       "2106557     Nicolas Cage|Malin Ã…kerman|Josh Lucas|Sami Ga...\n",
       "\n",
       "[111 rows x 1 columns]"
      ]
     },
     "metadata": {},
     "output_type": "display_data"
    }
   ],
   "source": [
    "import numpy as np\n",
    "import pandas as pd\n",
    "import seaborn as sns\n",
    "import matplotlib.pyplot as plt\n",
    "from collections import Counter\n",
    "\n",
    "data = pd.read_csv('C:/Users/Dmitriy/projects/Skillfactory/Skillfactory-projects/movie_bd_v5.csv')\n",
    "\n",
    "df2012=data[data['release_year'] == 2012] #фрейм за 2102 год\n",
    "\n",
    "#сводная таблица с названием фильма, актерами и макс сбором\n",
    "#df2012.pivot_table(['original_title', 'cast'],['revenue'], aggfunc='max').head(10)\n",
    "df_pivot= df2012.pivot_table(['cast'],['revenue'], aggfunc='max').sort_values(by='revenue',ascending=False)\n",
    "\n",
    "#максимальный сбор\n",
    "#cast_rev_max=df_pivot.query('revenue').max()\n",
    "#t=df_pivot.query('revenue ==1519557910').cast\n",
    "display(df_pivot)\n",
    "\n",
    "#original_title                                          Upside Down\n",
    "#cast Robert Pattinson|Sarah Gadon|Juliette Binoche|Paul Giamatti|Samantha Morton\n",
    "\n",
    "answers['15'] = '15. Chris Hemsworth'"
   ]
  },
  {
   "cell_type": "code",
   "execution_count": null,
   "metadata": {},
   "outputs": [],
   "source": []
  },
  {
   "cell_type": "markdown",
   "metadata": {
    "colab_type": "text",
    "id": "mWHyyL7QVp_j"
   },
   "source": [
    "# 16. Какой актер снялся в большем количестве высокобюджетных фильмов?"
   ]
  },
  {
   "cell_type": "code",
   "execution_count": 14,
   "metadata": {
    "colab": {},
    "colab_type": "code",
    "id": "qQtmHKTFVp_k"
   },
   "outputs": [
    {
     "name": "stdout",
     "output_type": "stream",
     "text": [
      "Chris Pratt             1\n",
      "Bryce Dallas Howard     1\n",
      "Irrfan Khan             1\n",
      "Vincent D'Onofrio       1\n",
      "Nick Robinson           1\n",
      "                       ..\n",
      "Lou Diamond Phillips    1\n",
      "Lily Tomlin             1\n",
      "Rene Russo              1\n",
      "Jason Alexander         1\n",
      "Piper Perabo            1\n",
      "Length: 1505, dtype: int64\n",
      "18\n",
      "            Number_cast\n",
      "Matt Damon           18\n"
     ]
    }
   ],
   "source": [
    "#df_cast_mbudget = data.groupby(['cast'])['budget'].max().sort_values(ascending=False )\n",
    "\n",
    "\n",
    "\n",
    "df_highBudget=data[(data.budget>data.budget.mean())] #высокобюджетный фрейм\n",
    "\n",
    "\n",
    "def count_cast(gf, N_cast):  # функция подсчета числа аткеров в строке датафрейма,\n",
    "    # получает на вход ячейку столбца и пустой список\n",
    "    dddd = len(df_highBudget[df_highBudget.cast.str.contains(gf, na=False)])  # записываем в переменную число актеров в столбце\n",
    "    N_cast.append(dddd)  # обновляем численный список актеров\n",
    "\n",
    "    return N_cast  # функция возвращает числовой список по актерам\n",
    "i=df_highBudget.index[0]\n",
    "\n",
    "\n",
    "    \n",
    "k = len(df_highBudget.cast)  # количество строк в столбце актеров\n",
    "\n",
    "d_cast = []  # пустой список для актеров из ячейки\n",
    "dict_cast = {}  # словарь для сохранения актеров\n",
    "i=df_highBudget.index[0]\n",
    "\n",
    "for i in df_highBudget.index:  # цикл составления списка актеров\n",
    "    t = df_highBudget.cast[i]\n",
    "\n",
    "#    try:  # прверка пустой строки\n",
    "#        t.isalnum()\n",
    "#    except AttributeError:\n",
    "#        i = i + 1\n",
    "#        continue\n",
    "    t = df_highBudget.cast[i].split('|')  # удаление разделительного символа между актерами\n",
    "\n",
    "    td = Counter(t).most_common()  # словарь из строки\n",
    "\n",
    "    dict_cast.update(td)  # добавление в итоговый словарь данных из текущей строки\n",
    "#    print(len(dict_cast))\n",
    "\n",
    "\n",
    "\n",
    "dd = pd.Series(dict_cast)  # список актеров\n",
    "print(dd)\n",
    "N_cast = []\n",
    "for gf in dd.index: count_cast(gf, N_cast)  # создание списка актеров\n",
    "\n",
    "# display(N_genres)  проверка\n",
    "\n",
    "\n",
    "dfg = pd.DataFrame(N_cast, index=dd.index, columns=['Number_cast'])  # созадние  датафрейма с актерами\n",
    "# display(dfg) проверка\n",
    "max = dfg.Number_cast.max()  # максимальное количество высокобюджетных фильмов\n",
    "print(max)\n",
    "ds = dfg[(dfg['Number_cast'] == max)]  # выборка максимального значения из ферйма с актерами\n",
    "print(ds)\n",
    "answers['16'] = '16. Matt Damon           18 фильмов'"
   ]
  },
  {
   "cell_type": "markdown",
   "metadata": {
    "colab_type": "text",
    "id": "NIh6AaW5Vp_n"
   },
   "source": [
    "# 17. В фильмах какого жанра больше всего снимался Nicolas Cage? "
   ]
  },
  {
   "cell_type": "code",
   "execution_count": 15,
   "metadata": {
    "colab": {},
    "colab_type": "code",
    "id": "H74SJDIBVp_n"
   },
   "outputs": [
    {
     "name": "stdout",
     "output_type": "stream",
     "text": [
      "16\n",
      "        Number_genres\n",
      "Action             16\n"
     ]
    }
   ],
   "source": [
    "def count_genres(gf,N_genre_film):#функция подсчета числа жанра одного вида в строке датафрейма,\n",
    "#получает на вход ячейку столбца и пустой список\n",
    "    dddd=len(dff[dff.genres.str.contains(gf, na=False)])#записываем в переменную число жанра в столбце\n",
    "    N_genre_film.append(dddd)     #обновляем численный список жанров\n",
    "\n",
    "    return N_genre_film           #функция возвращает числовой списко по жанрам\n",
    "\n",
    "\n",
    "dff=data[data.cast.str.match(\"Nicolas Cage\", na=False)] #оставляем фрейм фильмы имеющие нужный жанр\n",
    "\n",
    "Genres=(['Action', 'Adventure', 'Science Fiction', 'Thriller', 'Fantasy',\n",
    "       'Crime', 'Western', 'Drama', 'Family', 'Animation', 'Comedy', 'Mystery',\n",
    "       'Romance', 'War', 'History', 'Music', 'Horror', 'Documentary',\n",
    "       'Foreign'])\n",
    "\n",
    "N_genres = []\n",
    "\n",
    "for gf in Genres: count_genres(gf, N_genres)  # создание списка количества жанров\n",
    "\n",
    "dfg = pd.DataFrame(N_genres, index=Genres, columns=['Number_genres'])  # созадние жанрового датафрейма\n",
    "# display(dfg) проверка\n",
    "max = dfg.Number_genres.max()  # максимальное число жанров\n",
    "print(max)\n",
    "ds = dfg[(dfg['Number_genres'] == max)]  # выборка максимального занчения\n",
    "print(ds)\n",
    "\n",
    "\n",
    "answers['17'] = '17. Action             16 фильмов'"
   ]
  },
  {
   "cell_type": "markdown",
   "metadata": {
    "colab_type": "text",
    "id": "RqOmPRfWVp_q"
   },
   "source": [
    "# 18. Самый убыточный фильм от Paramount Pictures"
   ]
  },
  {
   "cell_type": "code",
   "execution_count": 90,
   "metadata": {
    "colab": {},
    "colab_type": "code",
    "id": "9E_B0Y96Vp_r"
   },
   "outputs": [
    {
     "name": "stdout",
     "output_type": "stream",
     "text": [
      "925    K-19: The Widowmaker\n",
      "Name: original_title, dtype: object\n"
     ]
    }
   ],
   "source": [
    "data['profit'] = data['revenue']-data['budget']\n",
    "df_par=data[data.production_companies.str.contains('Paramount Pictures')]\n",
    "ds=df_par[(df_par['profit']==df_par['profit'].min()) ]\n",
    "\n",
    "print(ds.original_title)\n",
    "answers['18'] = '18. K-19: The Widowmaker'"
   ]
  },
  {
   "cell_type": "markdown",
   "metadata": {
    "colab_type": "text",
    "id": "vS8Ur6ddVp_u"
   },
   "source": [
    "# 19. Какой год стал самым успешным по суммарным кассовым сборам?"
   ]
  },
  {
   "cell_type": "code",
   "execution_count": 99,
   "metadata": {
    "colab": {},
    "colab_type": "code",
    "id": "Dnbt4GdIVp_v"
   },
   "outputs": [
    {
     "name": "stdout",
     "output_type": "stream",
     "text": [
      "                  revenue\n",
      "release_year             \n",
      "2015          25449202382\n",
      "2014          23405862953\n",
      "2013          23213799791\n",
      "2012          23079001687\n",
      "2011          22676791872\n"
     ]
    }
   ],
   "source": [
    "success_year=data.pivot_table([ 'revenue'],['release_year'], aggfunc='sum').sort_values(by='revenue',ascending=False).head(5)\n",
    "\n",
    "print(success_year)\n",
    "\n",
    "answers['19'] = '19. 2015'"
   ]
  },
  {
   "cell_type": "markdown",
   "metadata": {
    "colab_type": "text",
    "id": "JAzJh4QAVp_z"
   },
   "source": [
    "# 20. Какой самый прибыльный год для студии Warner Bros?"
   ]
  },
  {
   "cell_type": "code",
   "execution_count": 98,
   "metadata": {
    "colab": {},
    "colab_type": "code",
    "id": "wgVu02DEVp_0"
   },
   "outputs": [
    {
     "name": "stdout",
     "output_type": "stream",
     "text": [
      "              profit\n",
      "release_year        \n",
      "2015           False\n",
      "2014            True\n",
      "2013           False\n",
      "2012           False\n",
      "2011           False\n",
      "                  profit\n",
      "release_year            \n",
      "2015           870368348\n",
      "2014          2295464519\n",
      "2013          1636453400\n",
      "2012          1258020056\n",
      "2011          1871393682\n"
     ]
    }
   ],
   "source": [
    "data['profit'] = data['revenue']-data['budget']\n",
    "\n",
    "df_warner=data[data.production_companies.str.contains('Warner Bros')]\n",
    "warnerbros_pivot=df_warner.pivot_table([ 'profit'],['release_year'], aggfunc='sum').sort_values(by='release_year',ascending=False).head(5)\n",
    "\n",
    "print(warnerbros_pivot==warnerbros_pivot.max())\n",
    "print(warnerbros_pivot)\n",
    "\n",
    "answers['20'] = '20. 2014'"
   ]
  },
  {
   "cell_type": "markdown",
   "metadata": {
    "colab_type": "text",
    "id": "8Im1S2HRVp_4"
   },
   "source": [
    "# 21. В каком месяце за все годы суммарно вышло больше всего фильмов?"
   ]
  },
  {
   "cell_type": "code",
   "execution_count": 3,
   "metadata": {
    "colab": {},
    "colab_type": "code",
    "id": "lev6TH7gVp_4"
   },
   "outputs": [
    {
     "ename": "NameError",
     "evalue": "name 'pd' is not defined",
     "output_type": "error",
     "traceback": [
      "\u001b[1;31m---------------------------------------------------------------------------\u001b[0m",
      "\u001b[1;31mNameError\u001b[0m                                 Traceback (most recent call last)",
      "\u001b[1;32m<ipython-input-3-2d537d47b237>\u001b[0m in \u001b[0;36m<module>\u001b[1;34m\u001b[0m\n\u001b[1;32m----> 1\u001b[1;33m \u001b[0mdata\u001b[0m\u001b[1;33m[\u001b[0m\u001b[1;34m\"release_date\"\u001b[0m\u001b[1;33m]\u001b[0m \u001b[1;33m=\u001b[0m \u001b[0mpd\u001b[0m\u001b[1;33m.\u001b[0m\u001b[0mto_datetime\u001b[0m\u001b[1;33m(\u001b[0m\u001b[0mdata\u001b[0m\u001b[1;33m[\u001b[0m\u001b[1;34m\"release_date\"\u001b[0m\u001b[1;33m]\u001b[0m\u001b[1;33m)\u001b[0m\u001b[1;33m\u001b[0m\u001b[1;33m\u001b[0m\u001b[0m\n\u001b[0m\u001b[0;32m      2\u001b[0m \u001b[0mdata\u001b[0m\u001b[1;33m[\u001b[0m\u001b[1;34m\"release_month\"\u001b[0m\u001b[1;33m]\u001b[0m \u001b[1;33m=\u001b[0m \u001b[0mdata\u001b[0m\u001b[1;33m[\u001b[0m\u001b[1;34m\"release_date\"\u001b[0m\u001b[1;33m]\u001b[0m\u001b[1;33m.\u001b[0m\u001b[0mdt\u001b[0m\u001b[1;33m.\u001b[0m\u001b[0mmonth\u001b[0m\u001b[1;33m\u001b[0m\u001b[1;33m\u001b[0m\u001b[0m\n\u001b[0;32m      3\u001b[0m \u001b[1;33m\u001b[0m\u001b[0m\n\u001b[0;32m      4\u001b[0m \u001b[1;33m\u001b[0m\u001b[0m\n\u001b[0;32m      5\u001b[0m \u001b[0mdf_monthmax\u001b[0m \u001b[1;33m=\u001b[0m \u001b[0mdata\u001b[0m\u001b[1;33m.\u001b[0m\u001b[0mgroupby\u001b[0m\u001b[1;33m(\u001b[0m\u001b[1;33m[\u001b[0m\u001b[1;34m'release_month'\u001b[0m\u001b[1;33m]\u001b[0m\u001b[1;33m)\u001b[0m\u001b[1;33m[\u001b[0m\u001b[1;34m'release_month'\u001b[0m\u001b[1;33m]\u001b[0m\u001b[1;33m.\u001b[0m\u001b[0mcount\u001b[0m\u001b[1;33m(\u001b[0m\u001b[1;33m)\u001b[0m\u001b[1;33m\u001b[0m\u001b[1;33m\u001b[0m\u001b[0m\n",
      "\u001b[1;31mNameError\u001b[0m: name 'pd' is not defined"
     ]
    }
   ],
   "source": [
    "data[\"release_date\"] = pd.to_datetime(data[\"release_date\"])\n",
    "data[\"release_month\"] = data[\"release_date\"].dt.month\n",
    "\n",
    "\n",
    "df_monthmax = data.groupby(['release_month'])['release_month'].count()\n",
    "\n",
    "print(df_monthmax)\n",
    "print(df_monthmax.max())\n",
    "answers['21'] = '21. 9 - сентябрь'"
   ]
  },
  {
   "cell_type": "markdown",
   "metadata": {
    "colab_type": "text",
    "id": "uAJsZ_NeVp_7"
   },
   "source": [
    "# 22. Сколько суммарно вышло фильмов летом? (за июнь, июль, август)"
   ]
  },
  {
   "cell_type": "code",
   "execution_count": 133,
   "metadata": {
    "colab": {},
    "colab_type": "code",
    "id": "Aa-hEREoVp_8"
   },
   "outputs": [
    {
     "name": "stdout",
     "output_type": "stream",
     "text": [
      "450\n"
     ]
    }
   ],
   "source": [
    "summer_fims=len(data[(data.release_month == 6) | (data.release_month == 7) | (data.release_month==8)])\n",
    "print(summer_fims)\n",
    "answers['22'] = '22. 450'"
   ]
  },
  {
   "cell_type": "markdown",
   "metadata": {
    "colab_type": "text",
    "id": "G94ppOY1VqAA"
   },
   "source": [
    "# 23. Для какого режиссера зима – самое продуктивное время года? "
   ]
  },
  {
   "cell_type": "code",
   "execution_count": 148,
   "metadata": {
    "colab": {},
    "colab_type": "code",
    "id": "RhNTsamuVqAB",
    "scrolled": true
   },
   "outputs": [
    {
     "data": {
      "text/html": [
       "<div>\n",
       "<style scoped>\n",
       "    .dataframe tbody tr th:only-of-type {\n",
       "        vertical-align: middle;\n",
       "    }\n",
       "\n",
       "    .dataframe tbody tr th {\n",
       "        vertical-align: top;\n",
       "    }\n",
       "\n",
       "    .dataframe thead th {\n",
       "        text-align: right;\n",
       "    }\n",
       "</style>\n",
       "<table border=\"1\" class=\"dataframe\">\n",
       "  <thead>\n",
       "    <tr style=\"text-align: right;\">\n",
       "      <th></th>\n",
       "      <th>release_month</th>\n",
       "    </tr>\n",
       "    <tr>\n",
       "      <th>director</th>\n",
       "      <th></th>\n",
       "    </tr>\n",
       "  </thead>\n",
       "  <tbody>\n",
       "    <tr>\n",
       "      <th>Peter Jackson</th>\n",
       "      <td>84</td>\n",
       "    </tr>\n",
       "    <tr>\n",
       "      <th>Clint Eastwood</th>\n",
       "      <td>61</td>\n",
       "    </tr>\n",
       "    <tr>\n",
       "      <th>Steven Soderbergh</th>\n",
       "      <td>51</td>\n",
       "    </tr>\n",
       "    <tr>\n",
       "      <th>Nancy Meyers</th>\n",
       "      <td>48</td>\n",
       "    </tr>\n",
       "    <tr>\n",
       "      <th>Martin Scorsese</th>\n",
       "      <td>38</td>\n",
       "    </tr>\n",
       "  </tbody>\n",
       "</table>\n",
       "</div>"
      ],
      "text/plain": [
       "                   release_month\n",
       "director                        \n",
       "Peter Jackson                 84\n",
       "Clint Eastwood                61\n",
       "Steven Soderbergh             51\n",
       "Nancy Meyers                  48\n",
       "Martin Scorsese               38"
      ]
     },
     "metadata": {},
     "output_type": "display_data"
    }
   ],
   "source": [
    "df_winter=data[(data.release_month == 12) | (data.release_month == 1) | (data.release_month==2)] #фрейм за зиму\n",
    "\n",
    "df_director= df_winter.pivot_table(['release_month'],['director'], aggfunc='sum').sort_values(by='release_month',ascending=False).head()\n",
    "display(df_director)\n"
   ]
  },
  {
   "cell_type": "markdown",
   "metadata": {
    "colab_type": "text",
    "id": "RBo0JVjVVqAF"
   },
   "source": [
    "# 24. Какая студия дает самые длинные названия своим фильмам по количеству символов?"
   ]
  },
  {
   "cell_type": "code",
   "execution_count": 103,
   "metadata": {
    "colab": {},
    "colab_type": "code",
    "id": "QRGS8L0iVqAG"
   },
   "outputs": [
    {
     "data": {
      "text/html": [
       "<div>\n",
       "<style scoped>\n",
       "    .dataframe tbody tr th:only-of-type {\n",
       "        vertical-align: middle;\n",
       "    }\n",
       "\n",
       "    .dataframe tbody tr th {\n",
       "        vertical-align: top;\n",
       "    }\n",
       "\n",
       "    .dataframe thead th {\n",
       "        text-align: right;\n",
       "    }\n",
       "</style>\n",
       "<table border=\"1\" class=\"dataframe\">\n",
       "  <thead>\n",
       "    <tr style=\"text-align: right;\">\n",
       "      <th></th>\n",
       "      <th>imdb_id</th>\n",
       "      <th>budget</th>\n",
       "      <th>revenue</th>\n",
       "      <th>original_title</th>\n",
       "      <th>cast</th>\n",
       "      <th>director</th>\n",
       "      <th>tagline</th>\n",
       "      <th>overview</th>\n",
       "      <th>runtime</th>\n",
       "      <th>genres</th>\n",
       "      <th>production_companies</th>\n",
       "      <th>release_date</th>\n",
       "      <th>vote_average</th>\n",
       "      <th>release_year</th>\n",
       "      <th>profit</th>\n",
       "      <th>title_len</th>\n",
       "    </tr>\n",
       "  </thead>\n",
       "  <tbody>\n",
       "    <tr>\n",
       "      <th>1448</th>\n",
       "      <td>tt0443453</td>\n",
       "      <td>18000000</td>\n",
       "      <td>261572744</td>\n",
       "      <td>Borat: Cultural Learnings of America for Make ...</td>\n",
       "      <td>Sacha Baron Cohen|Ken Davitian|Luenell|Pamela ...</td>\n",
       "      <td>Larry Charles</td>\n",
       "      <td>Come to Kazakhstan, it's nice!</td>\n",
       "      <td>Kazakh journalist Borat Sagdiyev travels to Am...</td>\n",
       "      <td>82</td>\n",
       "      <td>Comedy</td>\n",
       "      <td>Twentieth Century Fox Film Corporation|Four By...</td>\n",
       "      <td>11/2/2006</td>\n",
       "      <td>6.4</td>\n",
       "      <td>2006</td>\n",
       "      <td>243572744</td>\n",
       "      <td>83</td>\n",
       "    </tr>\n",
       "  </tbody>\n",
       "</table>\n",
       "</div>"
      ],
      "text/plain": [
       "        imdb_id    budget    revenue  \\\n",
       "1448  tt0443453  18000000  261572744   \n",
       "\n",
       "                                         original_title  \\\n",
       "1448  Borat: Cultural Learnings of America for Make ...   \n",
       "\n",
       "                                                   cast       director  \\\n",
       "1448  Sacha Baron Cohen|Ken Davitian|Luenell|Pamela ...  Larry Charles   \n",
       "\n",
       "                             tagline  \\\n",
       "1448  Come to Kazakhstan, it's nice!   \n",
       "\n",
       "                                               overview  runtime  genres  \\\n",
       "1448  Kazakh journalist Borat Sagdiyev travels to Am...       82  Comedy   \n",
       "\n",
       "                                   production_companies release_date  \\\n",
       "1448  Twentieth Century Fox Film Corporation|Four By...    11/2/2006   \n",
       "\n",
       "      vote_average  release_year     profit  title_len  \n",
       "1448           6.4          2006  243572744         83  "
      ]
     },
     "metadata": {},
     "output_type": "display_data"
    },
    {
     "data": {
      "text/plain": [
       "1448    Twentieth Century Fox Film Corporation|Four By...\n",
       "Name: production_companies, dtype: object"
      ]
     },
     "metadata": {},
     "output_type": "display_data"
    }
   ],
   "source": [
    "df_titlelen = pd.DataFrame(data['original_title']) #новый фрейм с названиями фильмов\n",
    "df_titlelen = df_titlelen.applymap(lambda x: len(str(x))) #замена названий на количество символов\n",
    "df_titlelen.columns = ['title_len'] #замена названия столбца\n",
    "\n",
    "\n",
    "data['title_len'] = df_titlelen['title_len'] #добавляем в исходный фрейм новый столбец с кол-вом символов\n",
    "\n",
    "display(data.query('title_len == title_len.max()'))\n",
    "display(data.query('title_len == title_len.max()')['production_companies'])\n",
    "\n",
    "answers['24'] = '24. Four By Two Productions'"
   ]
  },
  {
   "cell_type": "markdown",
   "metadata": {
    "colab_type": "text",
    "id": "9G0hbvR7VqAK"
   },
   "source": [
    "# 25. Описание фильмов какой студии в среднем самые длинные по количеству слов?"
   ]
  },
  {
   "cell_type": "code",
   "execution_count": 108,
   "metadata": {
    "colab": {},
    "colab_type": "code",
    "id": "Ge2GsLNxVqAK"
   },
   "outputs": [
    {
     "data": {
      "text/html": [
       "<div>\n",
       "<style scoped>\n",
       "    .dataframe tbody tr th:only-of-type {\n",
       "        vertical-align: middle;\n",
       "    }\n",
       "\n",
       "    .dataframe tbody tr th {\n",
       "        vertical-align: top;\n",
       "    }\n",
       "\n",
       "    .dataframe thead th {\n",
       "        text-align: right;\n",
       "    }\n",
       "</style>\n",
       "<table border=\"1\" class=\"dataframe\">\n",
       "  <thead>\n",
       "    <tr style=\"text-align: right;\">\n",
       "      <th></th>\n",
       "      <th>imdb_id</th>\n",
       "      <th>budget</th>\n",
       "      <th>revenue</th>\n",
       "      <th>original_title</th>\n",
       "      <th>cast</th>\n",
       "      <th>director</th>\n",
       "      <th>tagline</th>\n",
       "      <th>overview</th>\n",
       "      <th>runtime</th>\n",
       "      <th>genres</th>\n",
       "      <th>production_companies</th>\n",
       "      <th>release_date</th>\n",
       "      <th>vote_average</th>\n",
       "      <th>release_year</th>\n",
       "      <th>profit</th>\n",
       "      <th>title_len</th>\n",
       "      <th>overview_len</th>\n",
       "    </tr>\n",
       "  </thead>\n",
       "  <tbody>\n",
       "    <tr>\n",
       "      <th>711</th>\n",
       "      <td>tt0805570</td>\n",
       "      <td>15000000</td>\n",
       "      <td>3533227</td>\n",
       "      <td>The Midnight Meat Train</td>\n",
       "      <td>Bradley Cooper|Vinnie Jones|Brooke Shields|Les...</td>\n",
       "      <td>RyÃ»hei Kitamura</td>\n",
       "      <td>The most terrifying ride you'll ever take</td>\n",
       "      <td>The photographer Leon lives with his girlfrien...</td>\n",
       "      <td>98</td>\n",
       "      <td>Mystery|Drama|Crime|Thriller|Horror</td>\n",
       "      <td>Lions Gate Films|Lakeshore Entertainment|Green...</td>\n",
       "      <td>8/7/2008</td>\n",
       "      <td>5.7</td>\n",
       "      <td>2008</td>\n",
       "      <td>-11466773</td>\n",
       "      <td>23</td>\n",
       "      <td>174</td>\n",
       "    </tr>\n",
       "  </tbody>\n",
       "</table>\n",
       "</div>"
      ],
      "text/plain": [
       "       imdb_id    budget  revenue           original_title  \\\n",
       "711  tt0805570  15000000  3533227  The Midnight Meat Train   \n",
       "\n",
       "                                                  cast          director  \\\n",
       "711  Bradley Cooper|Vinnie Jones|Brooke Shields|Les...  RyÃ»hei Kitamura   \n",
       "\n",
       "                                       tagline  \\\n",
       "711  The most terrifying ride you'll ever take   \n",
       "\n",
       "                                              overview  runtime  \\\n",
       "711  The photographer Leon lives with his girlfrien...       98   \n",
       "\n",
       "                                  genres  \\\n",
       "711  Mystery|Drama|Crime|Thriller|Horror   \n",
       "\n",
       "                                  production_companies release_date  \\\n",
       "711  Lions Gate Films|Lakeshore Entertainment|Green...     8/7/2008   \n",
       "\n",
       "     vote_average  release_year    profit  title_len  overview_len  \n",
       "711           5.7          2008 -11466773         23           174  "
      ]
     },
     "metadata": {},
     "output_type": "display_data"
    },
    {
     "data": {
      "text/plain": [
       "711    Lions Gate Films|Lakeshore Entertainment|Green...\n",
       "Name: production_companies, dtype: object"
      ]
     },
     "metadata": {},
     "output_type": "display_data"
    }
   ],
   "source": [
    "df_overview = pd.DataFrame(data['overview']) #новый фрейм с названиями фильмов\n",
    "df_overview = df_overview.applymap(lambda x: x.count(' ')) #замена названий на количество пробелов(слов)\n",
    "df_overview.columns = ['overview_len'] #замена названия столбца\n",
    "\n",
    "\n",
    "data['overview_len'] = df_overview['overview_len'] #добавляем в исходный фрейм новый столбец с кол-вом символов\n",
    "\n",
    "display(data.query('overview_len == overview_len.max()'))\n",
    "display(data.query('overview_len == overview_len.max()')['production_companies'])\n",
    "\n",
    "\n",
    "answers['25'] = '25. Midnight Picture Show'"
   ]
  },
  {
   "cell_type": "markdown",
   "metadata": {
    "colab_type": "text",
    "id": "FJ1AFt90VqAP"
   },
   "source": [
    "# 26. Какие фильмы входят в 1 процент лучших по рейтингу? \n",
    "по vote_average"
   ]
  },
  {
   "cell_type": "code",
   "execution_count": 129,
   "metadata": {
    "colab": {},
    "colab_type": "code",
    "id": "8qmJVq4CVqAQ"
   },
   "outputs": [
    {
     "data": {
      "text/html": [
       "<div>\n",
       "<style scoped>\n",
       "    .dataframe tbody tr th:only-of-type {\n",
       "        vertical-align: middle;\n",
       "    }\n",
       "\n",
       "    .dataframe tbody tr th {\n",
       "        vertical-align: top;\n",
       "    }\n",
       "\n",
       "    .dataframe thead th {\n",
       "        text-align: right;\n",
       "    }\n",
       "</style>\n",
       "<table border=\"1\" class=\"dataframe\">\n",
       "  <thead>\n",
       "    <tr style=\"text-align: right;\">\n",
       "      <th></th>\n",
       "      <th>count</th>\n",
       "      <th>mean</th>\n",
       "      <th>std</th>\n",
       "      <th>min</th>\n",
       "      <th>1%</th>\n",
       "      <th>50%</th>\n",
       "      <th>max</th>\n",
       "    </tr>\n",
       "    <tr>\n",
       "      <th>original_title</th>\n",
       "      <th></th>\n",
       "      <th></th>\n",
       "      <th></th>\n",
       "      <th></th>\n",
       "      <th></th>\n",
       "      <th></th>\n",
       "      <th></th>\n",
       "    </tr>\n",
       "  </thead>\n",
       "  <tbody>\n",
       "    <tr>\n",
       "      <th>The Dark Knight</th>\n",
       "      <td>1.0</td>\n",
       "      <td>8.1</td>\n",
       "      <td>NaN</td>\n",
       "      <td>8.1</td>\n",
       "      <td>8.1</td>\n",
       "      <td>8.1</td>\n",
       "      <td>8.1</td>\n",
       "    </tr>\n",
       "    <tr>\n",
       "      <th>The Imitation Game</th>\n",
       "      <td>1.0</td>\n",
       "      <td>8.0</td>\n",
       "      <td>NaN</td>\n",
       "      <td>8.0</td>\n",
       "      <td>8.0</td>\n",
       "      <td>8.0</td>\n",
       "      <td>8.0</td>\n",
       "    </tr>\n",
       "    <tr>\n",
       "      <th>Interstellar</th>\n",
       "      <td>1.0</td>\n",
       "      <td>8.0</td>\n",
       "      <td>NaN</td>\n",
       "      <td>8.0</td>\n",
       "      <td>8.0</td>\n",
       "      <td>8.0</td>\n",
       "      <td>8.0</td>\n",
       "    </tr>\n",
       "    <tr>\n",
       "      <th>Room</th>\n",
       "      <td>1.0</td>\n",
       "      <td>8.0</td>\n",
       "      <td>NaN</td>\n",
       "      <td>8.0</td>\n",
       "      <td>8.0</td>\n",
       "      <td>8.0</td>\n",
       "      <td>8.0</td>\n",
       "    </tr>\n",
       "    <tr>\n",
       "      <th>Inside Out</th>\n",
       "      <td>1.0</td>\n",
       "      <td>8.0</td>\n",
       "      <td>NaN</td>\n",
       "      <td>8.0</td>\n",
       "      <td>8.0</td>\n",
       "      <td>8.0</td>\n",
       "      <td>8.0</td>\n",
       "    </tr>\n",
       "    <tr>\n",
       "      <th>Memento</th>\n",
       "      <td>1.0</td>\n",
       "      <td>7.9</td>\n",
       "      <td>NaN</td>\n",
       "      <td>7.9</td>\n",
       "      <td>7.9</td>\n",
       "      <td>7.9</td>\n",
       "      <td>7.9</td>\n",
       "    </tr>\n",
       "    <tr>\n",
       "      <th>The Pianist</th>\n",
       "      <td>1.0</td>\n",
       "      <td>7.9</td>\n",
       "      <td>NaN</td>\n",
       "      <td>7.9</td>\n",
       "      <td>7.9</td>\n",
       "      <td>7.9</td>\n",
       "      <td>7.9</td>\n",
       "    </tr>\n",
       "    <tr>\n",
       "      <th>Inception</th>\n",
       "      <td>1.0</td>\n",
       "      <td>7.9</td>\n",
       "      <td>NaN</td>\n",
       "      <td>7.9</td>\n",
       "      <td>7.9</td>\n",
       "      <td>7.9</td>\n",
       "      <td>7.9</td>\n",
       "    </tr>\n",
       "    <tr>\n",
       "      <th>The Grand Budapest Hotel</th>\n",
       "      <td>1.0</td>\n",
       "      <td>7.9</td>\n",
       "      <td>NaN</td>\n",
       "      <td>7.9</td>\n",
       "      <td>7.9</td>\n",
       "      <td>7.9</td>\n",
       "      <td>7.9</td>\n",
       "    </tr>\n",
       "    <tr>\n",
       "      <th>The Lord of the Rings: The Return of the King</th>\n",
       "      <td>1.0</td>\n",
       "      <td>7.9</td>\n",
       "      <td>NaN</td>\n",
       "      <td>7.9</td>\n",
       "      <td>7.9</td>\n",
       "      <td>7.9</td>\n",
       "      <td>7.9</td>\n",
       "    </tr>\n",
       "    <tr>\n",
       "      <th>Guardians of the Galaxy</th>\n",
       "      <td>1.0</td>\n",
       "      <td>7.9</td>\n",
       "      <td>NaN</td>\n",
       "      <td>7.9</td>\n",
       "      <td>7.9</td>\n",
       "      <td>7.9</td>\n",
       "      <td>7.9</td>\n",
       "    </tr>\n",
       "    <tr>\n",
       "      <th>Gone Girl</th>\n",
       "      <td>1.0</td>\n",
       "      <td>7.9</td>\n",
       "      <td>NaN</td>\n",
       "      <td>7.9</td>\n",
       "      <td>7.9</td>\n",
       "      <td>7.9</td>\n",
       "      <td>7.9</td>\n",
       "    </tr>\n",
       "    <tr>\n",
       "      <th>The Wolf of Wall Street</th>\n",
       "      <td>1.0</td>\n",
       "      <td>7.9</td>\n",
       "      <td>NaN</td>\n",
       "      <td>7.9</td>\n",
       "      <td>7.9</td>\n",
       "      <td>7.9</td>\n",
       "      <td>7.9</td>\n",
       "    </tr>\n",
       "    <tr>\n",
       "      <th>12 Years a Slave</th>\n",
       "      <td>1.0</td>\n",
       "      <td>7.9</td>\n",
       "      <td>NaN</td>\n",
       "      <td>7.9</td>\n",
       "      <td>7.9</td>\n",
       "      <td>7.9</td>\n",
       "      <td>7.9</td>\n",
       "    </tr>\n",
       "    <tr>\n",
       "      <th>Mr. Nobody</th>\n",
       "      <td>1.0</td>\n",
       "      <td>7.8</td>\n",
       "      <td>NaN</td>\n",
       "      <td>7.8</td>\n",
       "      <td>7.8</td>\n",
       "      <td>7.8</td>\n",
       "      <td>7.8</td>\n",
       "    </tr>\n",
       "  </tbody>\n",
       "</table>\n",
       "</div>"
      ],
      "text/plain": [
       "                                               count  mean  std  min   1%  \\\n",
       "original_title                                                              \n",
       "The Dark Knight                                  1.0   8.1  NaN  8.1  8.1   \n",
       "The Imitation Game                               1.0   8.0  NaN  8.0  8.0   \n",
       "Interstellar                                     1.0   8.0  NaN  8.0  8.0   \n",
       "Room                                             1.0   8.0  NaN  8.0  8.0   \n",
       "Inside Out                                       1.0   8.0  NaN  8.0  8.0   \n",
       "Memento                                          1.0   7.9  NaN  7.9  7.9   \n",
       "The Pianist                                      1.0   7.9  NaN  7.9  7.9   \n",
       "Inception                                        1.0   7.9  NaN  7.9  7.9   \n",
       "The Grand Budapest Hotel                         1.0   7.9  NaN  7.9  7.9   \n",
       "The Lord of the Rings: The Return of the King    1.0   7.9  NaN  7.9  7.9   \n",
       "Guardians of the Galaxy                          1.0   7.9  NaN  7.9  7.9   \n",
       "Gone Girl                                        1.0   7.9  NaN  7.9  7.9   \n",
       "The Wolf of Wall Street                          1.0   7.9  NaN  7.9  7.9   \n",
       "12 Years a Slave                                 1.0   7.9  NaN  7.9  7.9   \n",
       "Mr. Nobody                                       1.0   7.8  NaN  7.8  7.8   \n",
       "\n",
       "                                               50%  max  \n",
       "original_title                                           \n",
       "The Dark Knight                                8.1  8.1  \n",
       "The Imitation Game                             8.0  8.0  \n",
       "Interstellar                                   8.0  8.0  \n",
       "Room                                           8.0  8.0  \n",
       "Inside Out                                     8.0  8.0  \n",
       "Memento                                        7.9  7.9  \n",
       "The Pianist                                    7.9  7.9  \n",
       "Inception                                      7.9  7.9  \n",
       "The Grand Budapest Hotel                       7.9  7.9  \n",
       "The Lord of the Rings: The Return of the King  7.9  7.9  \n",
       "Guardians of the Galaxy                        7.9  7.9  \n",
       "Gone Girl                                      7.9  7.9  \n",
       "The Wolf of Wall Street                        7.9  7.9  \n",
       "12 Years a Slave                               7.9  7.9  \n",
       "Mr. Nobody                                     7.8  7.8  "
      ]
     },
     "execution_count": 129,
     "metadata": {},
     "output_type": "execute_result"
    }
   ],
   "source": [
    "data.groupby(['original_title'])['vote_average'].describe(percentiles=[0.01, ]).sort_values(by='1%',ascending=False).head(15)\n",
    "\n",
    "\n",
    "answers['26'] = '26. Inside Out, The Dark Knight, 12 Years a Slave'"
   ]
  },
  {
   "cell_type": "markdown",
   "metadata": {
    "colab_type": "text",
    "id": "MdXsUXbCVqAV"
   },
   "source": [
    "# 27. Какие актеры чаще всего снимаются в одном фильме вместе?\n"
   ]
  },
  {
   "cell_type": "markdown",
   "metadata": {
    "colab_type": "text",
    "id": "4ymnxEVoVqAW"
   },
   "source": [
    "ВАРИАНТ 2"
   ]
  },
  {
   "cell_type": "code",
   "execution_count": 14,
   "metadata": {},
   "outputs": [
    {
     "ename": "SyntaxError",
     "evalue": "invalid syntax (<ipython-input-14-c93f01d57eed>, line 3)",
     "output_type": "error",
     "traceback": [
      "\u001b[1;36m  File \u001b[1;32m\"<ipython-input-14-c93f01d57eed>\"\u001b[1;36m, line \u001b[1;32m3\u001b[0m\n\u001b[1;33m    t=[Vin Diesel, Paul Walker, Jason Statham]\u001b[0m\n\u001b[1;37m           ^\u001b[0m\n\u001b[1;31mSyntaxError\u001b[0m\u001b[1;31m:\u001b[0m invalid syntax\n"
     ]
    }
   ],
   "source": [
    "import pandas as pd\n",
    "import itertools\n",
    "t=[Vin Diesel, Paul Walker, Jason Statham]\n",
    "act=itertools.combinations(t, 2)\n",
    "actr=pd.Series(act)\n",
    "display(actr)"
   ]
  },
  {
   "cell_type": "markdown",
   "metadata": {
    "colab_type": "text",
    "id": "U0nONFnGVqAX"
   },
   "source": [
    "# Submission"
   ]
  },
  {
   "cell_type": "code",
   "execution_count": null,
   "metadata": {
    "colab": {},
    "colab_type": "code",
    "id": "IfcaRO9-VqAX",
    "outputId": "0f132912-32bb-4196-c98c-abfbc4ad5a5f"
   },
   "outputs": [],
   "source": [
    "# в конце можно посмотреть свои ответы к каждому вопросу\n",
    "answers"
   ]
  },
  {
   "cell_type": "code",
   "execution_count": null,
   "metadata": {
    "colab": {},
    "colab_type": "code",
    "id": "SiRmHPl8VqAd"
   },
   "outputs": [],
   "source": [
    "# и убедиться что ни чего не пропустил)\n",
    "len(answers)"
   ]
  },
  {
   "cell_type": "code",
   "execution_count": null,
   "metadata": {
    "colab": {},
    "colab_type": "code",
    "id": "uCfuTkRbVqAg"
   },
   "outputs": [],
   "source": []
  },
  {
   "cell_type": "code",
   "execution_count": null,
   "metadata": {
    "colab": {},
    "colab_type": "code",
    "id": "Vwx3NrkSVqAl"
   },
   "outputs": [],
   "source": []
  }
 ],
 "metadata": {
  "colab": {
   "name": "Copy of [SF-DST] Movies IMBD v4.1 TEMPLATE.ipynb",
   "provenance": []
  },
  "kernelspec": {
   "display_name": "Python 3",
   "language": "python",
   "name": "python3"
  },
  "language_info": {
   "codemirror_mode": {
    "name": "ipython",
    "version": 3
   },
   "file_extension": ".py",
   "mimetype": "text/x-python",
   "name": "python",
   "nbconvert_exporter": "python",
   "pygments_lexer": "ipython3",
   "version": "3.8.8"
  }
 },
 "nbformat": 4,
 "nbformat_minor": 1
}
